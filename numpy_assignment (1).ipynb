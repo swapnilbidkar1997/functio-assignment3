{
  "nbformat": 4,
  "nbformat_minor": 0,
  "metadata": {
    "colab": {
      "provenance": []
    },
    "kernelspec": {
      "name": "python3",
      "display_name": "Python 3"
    },
    "language_info": {
      "name": "python"
    }
  },
  "cells": [
    {
      "cell_type": "markdown",
      "source": [
        "Q1.explain the purpose and advantages of numpy in scientific computing and data analysis. how does it enhance pythons's capabilities for numerical operations?\n",
        "\n",
        "ans\n",
        "i) purpose of numpy in pyhton:\n",
        "\n",
        "numpy, or \"numeric python\", is a python library tht's used for scientific and mathematical calculations, and is especially useful for data science projects. it has many features and tools that help with 1)data cleaning , transformation, and aggregation.2) mathematical operations3)multi-dimensional arrays4)random number generators5)structuring data\n",
        "\n",
        "\n",
        "\n",
        "ii)advantage of numpy:\n",
        "\n",
        "ans:- 1) NUMPY  is faster than python lists, especially when working with large matrices or data sets.2)numpy uses less memory and storage space than python lists.3)numpy can simplify operations between arrays of different sizes.4)numpy can simplify operations on entire arrays without loops, which can improve code clarity and execution speed.5)numpy has a large collection of efficient mathematical functions, including matrix multiplication,eigenvalue calculation,and differential equations.6)numpy has functions for constructiong resizing concatenating, and padding arrays.\n"
      ],
      "metadata": {
        "id": "Z6sezo5PE1x8"
      }
    },
    {
      "cell_type": "markdown",
      "source": [
        "Q2.compare and contrast np.mean() and np.average () function in numpy. when would you use one over the other?\n",
        "\n",
        "ans :\n",
        "\n",
        "in the numpy library, there are two functions np.mean() and np.average().both are actually doing nealry the same job of calculating mean/average . the difference comes when we are calculating the  weighted average.\n",
        "\n",
        "np.mean()\n",
        "\n",
        "1) use to calculate arithmetic mean\n",
        "2) ALL elements have equal weight\n",
        "3)weight cannot be passed trough the parameter of the given function.\n",
        "4)syntax: np.mean(arr,axis=none)\n",
        "\n",
        "np.average()\n",
        "\n",
        "1) use to calculate the arithmetic mean as well as weighted average.\n",
        "2) all elements may or may not have equal weight.\n",
        "3) weight can be passed through the parameter of the given function.\n",
        "4) syntax: numpy.average(arr.axis=none,weights=none)\n",
        "\n",
        "\n",
        "\n"
      ],
      "metadata": {
        "id": "SmGn070SFV_-"
      }
    },
    {
      "cell_type": "markdown",
      "source": [
        "Q3.describe the methods for reversing a numpy array along different axes. provide examples for 1d and 2d arrays.\n",
        "\n",
        "ans :\n",
        "using numpy.flip() function reverses the order of array elements along the specifed axis, presrving the shape of the array."
      ],
      "metadata": {
        "id": "M4aEnzFBm0bc"
      }
    },
    {
      "cell_type": "code",
      "source": [
        "import numpy as np\n",
        "\n",
        "arr_1d = np.array([1,2,3,4,5,6,7,8,9])\n",
        "print(arr_1d)\n",
        "reversed_arr_1d = np.flip(arr_1d)\n",
        "print(reversed_arr_1d)\n",
        "\n",
        "arr_2d = np.array([[1,2,3,4],[5,6,7,8],[9,10,11,12]])\n",
        "print(arr_2d)\n",
        "arr_2d_rows = np.flip(arr_2d,axis=0)\n",
        "print(arr_2d_rows)\n",
        "arr_2d_cols = np.flip(arr_2d,axis=1)\n",
        "print(arr_2d_cols)\n"
      ],
      "metadata": {
        "colab": {
          "base_uri": "https://localhost:8080/"
        },
        "id": "u9ILge0iRJQG",
        "outputId": "e857e955-943d-4993-bede-4cc016751d54"
      },
      "execution_count": null,
      "outputs": [
        {
          "output_type": "stream",
          "name": "stdout",
          "text": [
            "[1 2 3 4 5 6 7 8 9]\n",
            "[9 8 7 6 5 4 3 2 1]\n",
            "[[ 1  2  3  4]\n",
            " [ 5  6  7  8]\n",
            " [ 9 10 11 12]]\n",
            "[[ 9 10 11 12]\n",
            " [ 5  6  7  8]\n",
            " [ 1  2  3  4]]\n",
            "[[ 4  3  2  1]\n",
            " [ 8  7  6  5]\n",
            " [12 11 10  9]]\n"
          ]
        }
      ]
    },
    {
      "cell_type": "markdown",
      "source": [
        "Q4. how can you determine the data type of elements in a numpy array? discuss the importance of data types in memory management and performance.\n",
        "\n",
        " ans :\n",
        "\n",
        " we can check the type of data present in the numpy array using the \"dtype\" attribute the data type of array \"arr\" is \"int\" (integer). here \"32 is related to memory allocation\n",
        "\n"
      ],
      "metadata": {
        "id": "HCfBooaPnAJy"
      }
    },
    {
      "cell_type": "code",
      "source": [
        "\n",
        "\n",
        "import numpy as np\n",
        "\n",
        "arr = np.array([1, 2, 3, 4, 5])\n",
        "print(arr.dtype)\n"
      ],
      "metadata": {
        "colab": {
          "base_uri": "https://localhost:8080/"
        },
        "id": "nafTXNhYUjJx",
        "outputId": "3f29a282-7966-4403-d0d2-855760d1f684"
      },
      "execution_count": null,
      "outputs": [
        {
          "output_type": "stream",
          "name": "stdout",
          "text": [
            "int64\n"
          ]
        }
      ]
    },
    {
      "cell_type": "markdown",
      "source": [
        "Q5. define ndarry in numpy and explain their key features. how do they differ from standard python lists?\n",
        "\n",
        "python list :\n",
        "\n",
        "1)dynamic typing 2)size flexibility 3) versatility 4) slower performance 5) less mathematical functionality\n",
        "\n",
        "VS\n",
        "\n",
        "numpy array:\n",
        "\n",
        "1) homogeneous data types 2) fixed size\n",
        "3) optimized operations4)better performance 5) memory efficiency 5)broadcasting\n",
        "\n",
        "\n",
        "\n",
        "\n"
      ],
      "metadata": {
        "id": "QZfF_7KinP2Y"
      }
    },
    {
      "cell_type": "code",
      "source": [
        "import numpy as np\n",
        "arr = np.array([1, 2, 3, 4, 5])\n",
        "print(arr)\n",
        "print(type(arr))\n"
      ],
      "metadata": {
        "colab": {
          "base_uri": "https://localhost:8080/"
        },
        "id": "u5Ja9HKNYpHF",
        "outputId": "1858545d-09e6-414d-d254-dc67050a83af"
      },
      "execution_count": null,
      "outputs": [
        {
          "output_type": "stream",
          "name": "stdout",
          "text": [
            "[1 2 3 4 5]\n",
            "<class 'numpy.ndarray'>\n"
          ]
        }
      ]
    },
    {
      "cell_type": "markdown",
      "source": [
        "Q6.analyze the performance benefits of numpy arrays over python list for large-scale numerical operations.\n"
      ],
      "metadata": {
        "id": "kY5WFxPsnb79"
      }
    },
    {
      "cell_type": "code",
      "source": [
        "import numpy as np\n",
        "import time\n",
        "size = 1000000\n",
        "my_list = list(range(size))\n",
        "my_array = np.array(range(size))\n",
        "start_time = time.time()\n",
        "new_list = [x + 1 for x in my_list]\n",
        "list_time = time.time() - start_time\n",
        "start_time = time.time()\n",
        "new_array = my_array + 1\n",
        "array_time = time.time() - start_time\n",
        "print(\"Time taken for list addition:\", list_time)\n",
        "print(\"Time taken for numpy array addition:\", array_time)\n",
        "print(\"Numpy array is\", round(list_time / array_time), \"times faster than list for element-wise addition.\")\n"
      ],
      "metadata": {
        "colab": {
          "base_uri": "https://localhost:8080/"
        },
        "id": "p6_KeOLgZFPO",
        "outputId": "6365f2dc-c35f-4ca7-f7ac-c0e1638bee77"
      },
      "execution_count": null,
      "outputs": [
        {
          "output_type": "stream",
          "name": "stdout",
          "text": [
            "Time taken for list addition: 0.07203340530395508\n",
            "Time taken for numpy array addition: 0.0046045780181884766\n",
            "Numpy array is 16 times faster than list for element-wise addition.\n"
          ]
        }
      ]
    },
    {
      "cell_type": "markdown",
      "source": [
        "Q7. compare vstack() and hstack() function in numpy. provide example demonstrating usage and output.\n"
      ],
      "metadata": {
        "id": "yn7Yhsk5npwm"
      }
    },
    {
      "cell_type": "code",
      "source": [
        "\n",
        "\n",
        "import numpy as np\n",
        "arr1 = np.array([1, 2, 3])\n",
        "arr2 = np.array([4, 5, 6])\n",
        "\n",
        "vertical_stack = np.vstack((arr1, arr2))\n",
        "print(\"Vertical Stack:\\n\", vertical_stack)\n",
        "\n",
        "horizontal_stack = np.hstack((arr1, arr2))\n",
        "print(\"\\nHorizontal Stack:\\n\", horizontal_stack)\n",
        "\n",
        "\n",
        "arr3 = np.array([[1, 2], [3, 4]])\n",
        "arr4 = np.array([[5, 6], [7, 8]])\n",
        "vertical_stack_2d = np.vstack((arr3, arr4))\n",
        "print(\"\\nVertical Stack 2D:\\n\", vertical_stack_2d)\n",
        "horizontal_stack_2d = np.hstack((arr3, arr4))\n",
        "print(\"\\nHorizontal Stack 2D:\\n\", horizontal_stack_2d)\n"
      ],
      "metadata": {
        "colab": {
          "base_uri": "https://localhost:8080/"
        },
        "id": "0LyfipEpadgS",
        "outputId": "fdae8f65-4879-4a9d-d5cd-186bacf85652"
      },
      "execution_count": null,
      "outputs": [
        {
          "output_type": "stream",
          "name": "stdout",
          "text": [
            "Vertical Stack:\n",
            " [[1 2 3]\n",
            " [4 5 6]]\n",
            "\n",
            "Horizontal Stack:\n",
            " [1 2 3 4 5 6]\n",
            "\n",
            "Vertical Stack 2D:\n",
            " [[1 2]\n",
            " [3 4]\n",
            " [5 6]\n",
            " [7 8]]\n",
            "\n",
            "Horizontal Stack 2D:\n",
            " [[1 2 5 6]\n",
            " [3 4 7 8]]\n"
          ]
        }
      ]
    },
    {
      "cell_type": "markdown",
      "source": [
        "Q8. explain the defference between fliplr() and flipud() methods in numpy,including their effects on various array dimensions."
      ],
      "metadata": {
        "id": "QWnAMc1on-b4"
      }
    },
    {
      "cell_type": "code",
      "source": [
        "import numpy as np\n",
        "\n",
        "arr = np.array([[1, 2, 3],\n",
        "                [4, 5, 6],\n",
        "                [7, 8, 9]])\n",
        "flipped_lr = np.fliplr(arr)\n",
        "print(\"Original array:\\n\", arr)\n",
        "print(\"\\nFlipped left-right:\\n\", flipped_lr)\n",
        "flipped_ud = np.flipud(arr)\n",
        "print(\"\\nFlipped up-down:\\n\", flipped_ud)\n",
        "\n",
        "\n",
        "\n",
        "arr_1d = np.array([1, 2, 3, 4, 5])\n",
        "flipped_lr_1d = np.fliplr(arr_1d.reshape(1, -1))\n",
        "flipped_ud_1d = np.flipud(arr_1d.reshape(1, -1))\n",
        "print(\"\\nOriginal 1D array:\", arr_1d)\n",
        "print(\"Flipped left-right (1D):\", flipped_lr_1d.flatten())\n",
        "print(\"Flipped up-down (1D):\", flipped_ud_1d.flatten())\n",
        "\n",
        "\n",
        "arr_3d = np.array([[[1, 2], [3, 4]], [[5, 6], [7, 8]]])\n",
        "flipped_lr_3d = np.fliplr(arr_3d)\n",
        "flipped_ud_3d = np.flipud(arr_3d)\n",
        "print(\"\\nOriginal 3D array:\\n\", arr_3d)\n",
        "print(\"\\nFlipped left-right (3D):\\n\", flipped_lr_3d)\n",
        "print(\"\\nFlipped up-down (3D):\\n\", flipped_ud_3d)\n",
        "\n"
      ],
      "metadata": {
        "colab": {
          "base_uri": "https://localhost:8080/"
        },
        "id": "FIRk5gywbNnx",
        "outputId": "0824cb39-9913-47a3-afc0-561a61412864"
      },
      "execution_count": null,
      "outputs": [
        {
          "output_type": "stream",
          "name": "stdout",
          "text": [
            "Original array:\n",
            " [[1 2 3]\n",
            " [4 5 6]\n",
            " [7 8 9]]\n",
            "\n",
            "Flipped left-right:\n",
            " [[3 2 1]\n",
            " [6 5 4]\n",
            " [9 8 7]]\n",
            "\n",
            "Flipped up-down:\n",
            " [[7 8 9]\n",
            " [4 5 6]\n",
            " [1 2 3]]\n",
            "\n",
            "Original 1D array: [1 2 3 4 5]\n",
            "Flipped left-right (1D): [5 4 3 2 1]\n",
            "Flipped up-down (1D): [1 2 3 4 5]\n",
            "\n",
            "Original 3D array:\n",
            " [[[1 2]\n",
            "  [3 4]]\n",
            "\n",
            " [[5 6]\n",
            "  [7 8]]]\n",
            "\n",
            "Flipped left-right (3D):\n",
            " [[[3 4]\n",
            "  [1 2]]\n",
            "\n",
            " [[7 8]\n",
            "  [5 6]]]\n",
            "\n",
            "Flipped up-down (3D):\n",
            " [[[5 6]\n",
            "  [7 8]]\n",
            "\n",
            " [[1 2]\n",
            "  [3 4]]]\n"
          ]
        }
      ]
    },
    {
      "cell_type": "markdown",
      "source": [
        "Q9.discuss the functionality of  the array_split() method in numpy. how does it handle uneven splits?\n",
        "ans:\n",
        "\n",
        "splitting is reverse operation of joining.joining merges multiple arrays into one and splitting breaks one array into multiple.\n",
        "we use array_split() for splitting arrays, we pass it the array we want to split and the number of splits.\n",
        "\n",
        "numpy.array_split() spliting into equal or nearly equal sub-arrays or is similar  to numpy.split() but it allows for uneven splitting of arrays. this is useful when the array cannot be evenly divided by the specified number of splits. numpy.array_split(array,4)splits the array into four parts accommodating uneven division.\n"
      ],
      "metadata": {
        "id": "8ZG9iy_JoMyD"
      }
    },
    {
      "cell_type": "code",
      "source": [
        "import numpy as np\n",
        "arrr = np.array([1,2,3,4,5,6])\n",
        "newarr = np.array_split(arrr,3)\n",
        "print(newarr)\n",
        "\n",
        "\n",
        "array = np.arange(13)\n",
        "result = np.array_split(array,4)\n",
        "print(\"Array:\")\n",
        "print(array)\n",
        "print(\"\\nResult:\")\n",
        "print(\"\\nResult after numpy.array_split():\")\n",
        "print(result)"
      ],
      "metadata": {
        "colab": {
          "base_uri": "https://localhost:8080/"
        },
        "id": "gVRJ5Kk2nQSK",
        "outputId": "eefeb869-74f3-4f1f-c292-604243d3b0f3"
      },
      "execution_count": null,
      "outputs": [
        {
          "output_type": "stream",
          "name": "stdout",
          "text": [
            "[array([1, 2]), array([3, 4]), array([5, 6])]\n",
            "Array:\n",
            "[ 0  1  2  3  4  5  6  7  8  9 10 11 12]\n",
            "\n",
            "Result:\n",
            "\n",
            "Result after numpy.array_split():\n",
            "[array([0, 1, 2, 3]), array([4, 5, 6]), array([7, 8, 9]), array([10, 11, 12])]\n"
          ]
        }
      ]
    },
    {
      "cell_type": "markdown",
      "source": [
        "10. explain the concepts of vectorization and broadcasting in numpy. how do they contribute to efficient array operation?\n",
        "\n",
        "ans:\n",
        "\n",
        "1) What is vectorization in numpy:\n",
        "numpy arrays are homogenous in nature means it is an array that contains data of a single type only. python's  lists and tuples are unrestricted in the type of data they contain. the concept of vectorized operations on numpy allows the use of more optimal and pre-conpiled functions and mathematical operations on numpy array objects and data sequences. the output and operaitons will speed up when ompared to simple non-vectorized operations.\n",
        "\n",
        "\n",
        "2) what is broadcasting in python:\n",
        "\n",
        "the term broadcastin refers to the ability of numpy to treat arrays with different dimensions during arithmetic   operations.\n",
        "this processes involves certain rules that allow the smaller array to be broadcast  across the larger one ensuring that they hace compatible shapes for these operations\n",
        "\n",
        "\n",
        "\n",
        "\n",
        "\n",
        "\n"
      ],
      "metadata": {
        "id": "_fF7POvmocKJ"
      }
    },
    {
      "cell_type": "markdown",
      "source": [
        "PRACTICLE QUESTION"
      ],
      "metadata": {
        "id": "L1-E8xzBosJI"
      }
    },
    {
      "cell_type": "markdown",
      "source": [
        "Q1. create a 3*3 numpy array with random integers between 1 and 100. then , interchange its row and columns."
      ],
      "metadata": {
        "id": "coQdNiWboy71"
      }
    },
    {
      "cell_type": "code",
      "source": [
        "import numpy as np\n",
        "array = np.random.randint(1, 101, size=(3, 3))\n",
        "print(\"Original array:\")\n",
        "print(array)\n",
        "interchanged_array = array.transpose()\n",
        "\n",
        "print(\"\\nArray with rows and columns interchanged:\")\n",
        "print(interchanged_array)\n"
      ],
      "metadata": {
        "colab": {
          "base_uri": "https://localhost:8080/"
        },
        "id": "uujl71llI_i9",
        "outputId": "5679c0b6-b853-4142-ca16-46d83205c4e0"
      },
      "execution_count": 1,
      "outputs": [
        {
          "output_type": "stream",
          "name": "stdout",
          "text": [
            "Original array:\n",
            "[[ 4 60 18]\n",
            " [38 87 47]\n",
            " [80 58 89]]\n",
            "\n",
            "Array with rows and columns interchanged:\n",
            "[[ 4 38 80]\n",
            " [60 87 58]\n",
            " [18 47 89]]\n"
          ]
        }
      ]
    },
    {
      "cell_type": "markdown",
      "source": [
        "Q2.generate a 1d numpy array with 10 elements. reshape it into a 2*5 array, then into a 5*2 array.\n"
      ],
      "metadata": {
        "id": "qdVW-p8zpHjo"
      }
    },
    {
      "cell_type": "code",
      "source": [
        "\n",
        "\n",
        "import numpy as np\n",
        "\n",
        "\n",
        "arr_1d = np.arange(10)\n",
        "print(\"Original 1D array:\", arr_1d)\n",
        "\n",
        "\n",
        "arr_2x5 = arr_1d.reshape(2, 5)\n",
        "print(\"\\nReshaped into a 2x5 array:\\n\", arr_2x5)\n",
        "\n",
        "\n",
        "arr_5x2 = arr_1d.reshape(5, 2)\n",
        "print(\"\\nReshaped into a 5x2 array:\\n\", arr_5x2)\n"
      ],
      "metadata": {
        "colab": {
          "base_uri": "https://localhost:8080/"
        },
        "id": "PeIySm4jJWoy",
        "outputId": "adb91d17-8f7e-4777-d516-a2ec798be6fc"
      },
      "execution_count": 2,
      "outputs": [
        {
          "output_type": "stream",
          "name": "stdout",
          "text": [
            "Original 1D array: [0 1 2 3 4 5 6 7 8 9]\n",
            "\n",
            "Reshaped into a 2x5 array:\n",
            " [[0 1 2 3 4]\n",
            " [5 6 7 8 9]]\n",
            "\n",
            "Reshaped into a 5x2 array:\n",
            " [[0 1]\n",
            " [2 3]\n",
            " [4 5]\n",
            " [6 7]\n",
            " [8 9]]\n"
          ]
        }
      ]
    },
    {
      "cell_type": "markdown",
      "source": [
        "Q3.create a 4*4 numpy array with random float values. add a border of zeros around it, resulting in a 6 * 6  array.\n"
      ],
      "metadata": {
        "id": "iwmiV7a9pjge"
      }
    },
    {
      "cell_type": "code",
      "source": [
        "import numpy as np\n",
        "array = np.random.rand(4, 4)\n",
        "padded_array = np.pad(array, pad_width=1, mode='constant', constant_values=0)\n",
        "print(\"Original array:\\n\", array)\n",
        "print(\"\\nPadded array:\\n\", padded_array)\n"
      ],
      "metadata": {
        "colab": {
          "base_uri": "https://localhost:8080/"
        },
        "id": "lwpyG1G1Juqc",
        "outputId": "1c138bb3-5e83-4d1e-bea8-69d911e45eaa"
      },
      "execution_count": 3,
      "outputs": [
        {
          "output_type": "stream",
          "name": "stdout",
          "text": [
            "Original array:\n",
            " [[0.64293792 0.29384186 0.99199991 0.27822609]\n",
            " [0.26836482 0.25087116 0.26733118 0.8249517 ]\n",
            " [0.09112166 0.61901242 0.24021812 0.35151283]\n",
            " [0.19221679 0.34300595 0.75033853 0.19753544]]\n",
            "\n",
            "Padded array:\n",
            " [[0.         0.         0.         0.         0.         0.        ]\n",
            " [0.         0.64293792 0.29384186 0.99199991 0.27822609 0.        ]\n",
            " [0.         0.26836482 0.25087116 0.26733118 0.8249517  0.        ]\n",
            " [0.         0.09112166 0.61901242 0.24021812 0.35151283 0.        ]\n",
            " [0.         0.19221679 0.34300595 0.75033853 0.19753544 0.        ]\n",
            " [0.         0.         0.         0.         0.         0.        ]]\n"
          ]
        }
      ]
    },
    {
      "cell_type": "markdown",
      "source": [
        "Q4. using numpy, create an array of integers from 10 to 60 with a step of 5"
      ],
      "metadata": {
        "id": "NlwQCCUaqMQX"
      }
    },
    {
      "cell_type": "code",
      "source": [
        "\n",
        "\n",
        "import numpy as np\n",
        "\n",
        "array = np.arange(10, 61, 5)\n",
        "print(array)\n"
      ],
      "metadata": {
        "colab": {
          "base_uri": "https://localhost:8080/"
        },
        "id": "srl4JowiLZ58",
        "outputId": "18a381a9-c2e9-4ba8-9924-4876309e1cbe"
      },
      "execution_count": 4,
      "outputs": [
        {
          "output_type": "stream",
          "name": "stdout",
          "text": [
            "[10 15 20 25 30 35 40 45 50 55 60]\n"
          ]
        }
      ]
    },
    {
      "cell_type": "markdown",
      "source": [
        "Q5.create a numpy  array of ssrings [\"python,\"numpy\",\"pandas\"] apply different case transformations (uppercase,lowercasse,little case) to each elemnet.\n"
      ],
      "metadata": {
        "id": "Qe_JFiWKqfId"
      }
    },
    {
      "cell_type": "code",
      "source": [
        "import numpy as np\n",
        "strings = np.array([\"python\", \"numpy\", \"pandas\"])\n",
        "uppercase_strings = [s.upper() for s in strings]\n",
        "lowercase_strings = [s.lower() for s in strings]\n",
        "titlecase_strings = [s.title() for s in strings]\n",
        "print(\"Original strings:\", strings)\n",
        "print(\"Uppercase strings:\", uppercase_strings)\n",
        "print(\"Lowercase strings:\", lowercase_strings)\n",
        "print(\"Titlecase strings:\", titlecase_strings)\n"
      ],
      "metadata": {
        "colab": {
          "base_uri": "https://localhost:8080/"
        },
        "id": "93sr12cxLsnX",
        "outputId": "26435746-1049-4e79-a42e-bf58037907f5"
      },
      "execution_count": 5,
      "outputs": [
        {
          "output_type": "stream",
          "name": "stdout",
          "text": [
            "Original strings: ['python' 'numpy' 'pandas']\n",
            "Uppercase strings: ['PYTHON', 'NUMPY', 'PANDAS']\n",
            "Lowercase strings: ['python', 'numpy', 'pandas']\n",
            "Titlecase strings: ['Python', 'Numpy', 'Pandas']\n"
          ]
        }
      ]
    },
    {
      "cell_type": "markdown",
      "source": [
        "Q6. generate a numpy array of words. insert a space between each character of every word in the array.\n"
      ],
      "metadata": {
        "id": "9Ldv0JJnq-PW"
      }
    },
    {
      "cell_type": "code",
      "source": [
        "import numpy as np\n",
        "words = np.array(['hello', 'world', 'numpy'])\n",
        "spaced_words = [' '.join(list(word)) for word in words]\n",
        "print(spaced_words)\n"
      ],
      "metadata": {
        "colab": {
          "base_uri": "https://localhost:8080/"
        },
        "id": "cRoi9JpQMJAu",
        "outputId": "4d4c7c54-a126-48ec-c668-cf307d14cc64"
      },
      "execution_count": 6,
      "outputs": [
        {
          "output_type": "stream",
          "name": "stdout",
          "text": [
            "['h e l l o', 'w o r l d', 'n u m p y']\n"
          ]
        }
      ]
    },
    {
      "cell_type": "markdown",
      "source": [
        "Q7.create two 2d numpy arrays and perdorm elements-wise addition,substraction,multiplication, and division."
      ],
      "metadata": {
        "id": "aODcClUorPaO"
      }
    },
    {
      "cell_type": "code",
      "source": [
        "import numpy as np\n",
        "array1 = np.array([[1, 2], [3, 4]])\n",
        "array2 = np.array([[5, 6], [7, 8]])\n",
        "addition_result = array1 + array2\n",
        "print(\"Element-wise addition:\\n\", addition_result)\n",
        "subtraction_result = array1 - array2\n",
        "print(\"\\nElement-wise subtraction:\\n\", subtraction_result)\n",
        "multiplication_result = array1 * array2\n",
        "print(\"\\nElement-wise multiplication:\\n\", multiplication_result)\n",
        "division_result = array1 / array2\n",
        "print(\"\\nElement-wise division:\\n\", division_result)\n"
      ],
      "metadata": {
        "id": "ZvFwQqcDO5Sd"
      },
      "execution_count": null,
      "outputs": []
    },
    {
      "cell_type": "markdown",
      "source": [
        "Q8.use numpy to create a 5 * 5 identity matrix, then extract its diagonal element ."
      ],
      "metadata": {
        "id": "IYfHdfaqrb8Y"
      }
    },
    {
      "cell_type": "code",
      "source": [
        "import numpy as np\n",
        "identity_matrix = np.identity(5)\n",
        "print(\"5x5 Identity Matrix:\\n\", identity_matrix)\n",
        "diagonal_elements = np.diag(identity_matrix)\n",
        "print(\"\\nDiagonal Elements:\", diagonal_elements)\n"
      ],
      "metadata": {
        "id": "RuF8pab-Pc_u"
      },
      "execution_count": null,
      "outputs": []
    },
    {
      "cell_type": "markdown",
      "source": [
        "Q9.generate a numpy array of 100 random integers between 0 and 1000 . find and display all prime numbers in this array.\n"
      ],
      "metadata": {
        "id": "rGoaAUp_rreE"
      }
    },
    {
      "cell_type": "code",
      "source": [
        "# prompt: generate a numpy aarray of 100 random integers between 0 and 1000 find and display all prime numbers in this array.\n",
        "\n",
        "import numpy as np\n",
        "\n",
        "def is_prime(n):\n",
        "  \"\"\"Checks if a number is prime.\"\"\"\n",
        "  if n <= 1:\n",
        "    return False\n",
        "  for i in range(2, int(n**0.5) + 1):\n",
        "    if n % i == 0:\n",
        "      return False\n",
        "  return True\n",
        "\n",
        "# Generate a NumPy array of 100 random integers between 0 and 1000\n",
        "random_integers = np.random.randint(0, 1001, size=100)\n",
        "\n",
        "# Find and display all prime numbers in the array\n",
        "prime_numbers = [num for num in random_integers if is_prime(num)]\n",
        "print(\"Prime numbers in the array:\", prime_numbers)\n"
      ],
      "metadata": {
        "id": "vNQTRswhPulR"
      },
      "execution_count": null,
      "outputs": []
    },
    {
      "cell_type": "code",
      "source": [
        "import numpy as np\n",
        "def is_prime(n):\n",
        "  \"\"\"Checks if a number is prime.\"\"\"\n",
        "  if n <= 1:\n",
        "    return False\n",
        "  for i in range(2, int(n**0.5) + 1):\n",
        "    if n % i == 0:\n",
        "      return False\n",
        "  return True\n",
        "random_integers = np.random.randint(0, 1001, size=100)\n",
        "prime_numbers = [num for num in random_integers if is_prime(num)]\n",
        "print(\"Prime numbers in the array:\", prime_numbers)"
      ],
      "metadata": {
        "colab": {
          "base_uri": "https://localhost:8080/"
        },
        "id": "EVqUzF-jP9lc",
        "outputId": "14f70fd3-fe43-49c2-a13b-cde2e2ddbb96"
      },
      "execution_count": 8,
      "outputs": [
        {
          "output_type": "stream",
          "name": "stdout",
          "text": [
            "Prime numbers in the array: [29, 337, 827, 653, 613, 439, 641, 401, 167, 431, 101]\n"
          ]
        }
      ]
    },
    {
      "cell_type": "markdown",
      "source": [
        "Q10. create a numpy array representing daily temperatures for a month. calculate and display the weekly average."
      ],
      "metadata": {
        "id": "Tfa5oDCdr4sg"
      }
    },
    {
      "cell_type": "code",
      "source": [
        "import numpy as np\n",
        "daily_temperatures = np.random.randint(15, 35, size=30)\n",
        "weekly_averages = []\n",
        "for i in range(0, len(daily_temperatures), 7):\n",
        "    week_temperatures = daily_temperatures[i:i + 7]\n",
        "    weekly_average = np.mean(week_temperatures)\n",
        "    weekly_averages.append(weekly_average)\n",
        "print(\"Daily Temperatures:\", daily_temperatures)\n",
        "print(\"Weekly Average Temperatures:\", weekly_averages)\n"
      ],
      "metadata": {
        "colab": {
          "base_uri": "https://localhost:8080/"
        },
        "id": "BFT_nyEwQ7z2",
        "outputId": "f3970c12-561d-4d27-aea1-f8c2dd7b6c2e"
      },
      "execution_count": 9,
      "outputs": [
        {
          "output_type": "stream",
          "name": "stdout",
          "text": [
            "Daily Temperatures: [16 31 21 30 33 32 17 28 26 28 31 19 30 34 27 19 26 19 28 20 19 24 25 25\n",
            " 23 17 17 29 32 20]\n",
            "Weekly Average Temperatures: [25.714285714285715, 28.0, 22.571428571428573, 22.857142857142858, 26.0]\n"
          ]
        }
      ]
    }
  ]
}