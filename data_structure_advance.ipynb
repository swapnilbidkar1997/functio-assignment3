{
  "nbformat": 4,
  "nbformat_minor": 0,
  "metadata": {
    "colab": {
      "provenance": []
    },
    "kernelspec": {
      "name": "python3",
      "display_name": "Python 3"
    },
    "language_info": {
      "name": "python"
    }
  },
  "cells": [
    {
      "cell_type": "markdown",
      "source": [
        "Q1. write a codde to reverse a string."
      ],
      "metadata": {
        "id": "uNEgfKZAL8Fg"
      }
    },
    {
      "cell_type": "code",
      "source": [
        " a = \"pwskills\"\n",
        " a[::-1]"
      ],
      "metadata": {
        "colab": {
          "base_uri": "https://localhost:8080/",
          "height": 36
        },
        "id": "_JIF5euTYR7Y",
        "outputId": "05d883f6-030a-41a8-9ed1-2c58a8eee3d2"
      },
      "execution_count": null,
      "outputs": [
        {
          "output_type": "execute_result",
          "data": {
            "text/plain": [
              "'sllikswp'"
            ],
            "application/vnd.google.colaboratory.intrinsic+json": {
              "type": "string"
            }
          },
          "metadata": {},
          "execution_count": 1
        }
      ]
    },
    {
      "cell_type": "markdown",
      "source": [
        "Q2.write a code to count the number of wvowels in a string."
      ],
      "metadata": {
        "id": "9u2plrv5MDs5"
      }
    },
    {
      "cell_type": "code",
      "source": [
        " string = \"swapnil\"\n",
        " v = \"aeiouAEIOU\"\n",
        " count = sum(string.count(vowel) for vowel in v)\n",
        " print(count)\n"
      ],
      "metadata": {
        "colab": {
          "base_uri": "https://localhost:8080/"
        },
        "id": "j8Tyh-yEZLMU",
        "outputId": "eac95c28-0a1d-43a3-c860-c0eda7419eef"
      },
      "execution_count": null,
      "outputs": [
        {
          "output_type": "stream",
          "name": "stdout",
          "text": [
            "2\n"
          ]
        }
      ]
    },
    {
      "cell_type": "markdown",
      "source": [
        "Q3.write a code to check if a given string is a palindrome or not."
      ],
      "metadata": {
        "id": "QUkJMtRGMR7c"
      }
    },
    {
      "cell_type": "code",
      "source": [
        " def is_palindrome(string):\n",
        "\n",
        " # string = string.lower()\n",
        "  return string == string[::-1]\n",
        "\n",
        "\n",
        " string = \"racecar\"\n",
        " if is_palindrome(string):\n",
        "  print(f\"{string} is a palindrome.\")\n",
        " else:\n",
        "  print(f\"{string} is not a palindrome.\")\n"
      ],
      "metadata": {
        "colab": {
          "base_uri": "https://localhost:8080/"
        },
        "id": "0T9hij2fZmpJ",
        "outputId": "377b7cc8-ebd6-4684-86f1-5e4e5fd970ab"
      },
      "execution_count": null,
      "outputs": [
        {
          "output_type": "stream",
          "name": "stdout",
          "text": [
            "racecar is a palindrome.\n"
          ]
        }
      ]
    },
    {
      "cell_type": "code",
      "source": [
        "is_palindrome(\"RACECAR\")"
      ],
      "metadata": {
        "colab": {
          "base_uri": "https://localhost:8080/"
        },
        "id": "85iE9HsWbUqm",
        "outputId": "84c72440-0195-46fd-8506-66cbaa33f2e6"
      },
      "execution_count": null,
      "outputs": [
        {
          "output_type": "execute_result",
          "data": {
            "text/plain": [
              "True"
            ]
          },
          "metadata": {},
          "execution_count": 8
        }
      ]
    },
    {
      "cell_type": "markdown",
      "source": [
        "Q4.write a code to check if two given strings are anagrams of each other."
      ],
      "metadata": {
        "id": "Ia0bTJ3cMto7"
      }
    },
    {
      "cell_type": "code",
      "source": [
        "def are_anagrams(str1, str2):\n",
        "\n",
        "  str1 = str1.lower()\n",
        "  str2 = str2.lower()\n",
        "  if len(str1) == len (str2):\n",
        "    sorted_str1 = sorted(str1)\n",
        "    sorted_str2 = sorted(str2)\n",
        "    if sorted_str1 == sorted_str2:\n",
        "       return  str1 + \"and \" + str2 + \"are anagrams\"\n",
        "    else:\n",
        "          str1 + \"and \" + str2 + \"are not anagrams\"\n",
        "\n",
        "print (are_anagrams(\"listen\", \"silent\"))\n",
        "\n",
        "\n"
      ],
      "metadata": {
        "colab": {
          "base_uri": "https://localhost:8080/"
        },
        "id": "WkWlCPUmdV5b",
        "outputId": "230e97e7-8400-400b-f3fc-e543c13d115f"
      },
      "execution_count": null,
      "outputs": [
        {
          "output_type": "stream",
          "name": "stdout",
          "text": [
            "listenand silentare anagrams\n"
          ]
        }
      ]
    },
    {
      "cell_type": "markdown",
      "source": [
        "Q5. write a code to find all occurrences of a given substring within another string.\n"
      ],
      "metadata": {
        "id": "PVX2FzBAM6oA"
      }
    },
    {
      "cell_type": "code",
      "source": [
        "def find_all_occurrences(string, substring):\n",
        "  indices = []\n",
        "  start = 0\n",
        "  while True:\n",
        "    index = string.find(substring, start)\n",
        "    if index == -1:\n",
        "      break\n",
        "    indices.append(index)\n",
        "    start = index + 1\n",
        "  return indices\n",
        "\n",
        "string = \"This is a test string. This string contains the word 'test' multiple times.\"\n",
        "substring = \"test\"\n",
        "occurrences = find_all_occurrences(string, substring)\n",
        "print(f\"Occurrences of '{substring}' in the string: {occurrences}\")"
      ],
      "metadata": {
        "colab": {
          "base_uri": "https://localhost:8080/"
        },
        "id": "g6wZ0OkChmX5",
        "outputId": "f774359e-e4d6-4df1-af46-816dbea064cd"
      },
      "execution_count": null,
      "outputs": [
        {
          "output_type": "stream",
          "name": "stdout",
          "text": [
            "Occurrences of 'test' in the string: [10, 54]\n"
          ]
        }
      ]
    },
    {
      "cell_type": "markdown",
      "source": [
        "Q6.write a code to perform basic string compression using the counts of repeated characters."
      ],
      "metadata": {
        "id": "84EDFVPKNKXE"
      }
    },
    {
      "cell_type": "code",
      "source": [
        "def compressed_string(string):\n",
        "  string = \"\"\n",
        "  count = 1\n",
        "  for i in range(1, len(string)):\n",
        "    if string[i] == string[i-1]:\n",
        "      count += 1\n",
        "    else:\n",
        "      compressed_string += string[i-1] + str(count)\n",
        "      count = 1\n",
        "  compressed_string += string[-1] + str(count)\n",
        "  return compressed_string\n",
        "\n",
        "  string = \"aabcccccaaa\"\n",
        "  compressed_string = compressed_string(string)\n",
        "  print(f\"Compressed string: {compressed_string}\")"
      ],
      "metadata": {
        "id": "BpIizze1isyb"
      },
      "execution_count": null,
      "outputs": []
    },
    {
      "cell_type": "markdown",
      "source": [
        "Q7. write a code to determine if a string  has all unique characters."
      ],
      "metadata": {
        "id": "lh-TDy1uNY5c"
      }
    },
    {
      "cell_type": "code",
      "source": [
        "\n",
        "def has_unique_characters(string):\n",
        "  char_set = set()\n",
        "  for char in string:\n",
        "    if char in char_set:\n",
        "      return False\n",
        "    char_set.add(char)\n",
        "  return True"
      ],
      "metadata": {
        "id": "Qz10fpn_jQN0"
      },
      "execution_count": null,
      "outputs": []
    },
    {
      "cell_type": "code",
      "source": [
        "has_unique_characters(\"swapnil\")"
      ],
      "metadata": {
        "colab": {
          "base_uri": "https://localhost:8080/"
        },
        "id": "-lJYgdoJjsBp",
        "outputId": "c1ba6058-d9e2-48c5-9607-5de6dad7ab85"
      },
      "execution_count": null,
      "outputs": [
        {
          "output_type": "execute_result",
          "data": {
            "text/plain": [
              "True"
            ]
          },
          "metadata": {},
          "execution_count": 21
        }
      ]
    },
    {
      "cell_type": "markdown",
      "source": [
        "Q8.write a code to convert a given string to uppercase or lowercase.\n",
        "\n"
      ],
      "metadata": {
        "id": "3CahKD-tNjLQ"
      }
    },
    {
      "cell_type": "code",
      "source": [
        "\n",
        "def convert_case(string, to_uppercase=True):\n",
        "  if to_uppercase:\n",
        "    return string.upper()\n",
        "  else:\n",
        "    return string.lower()"
      ],
      "metadata": {
        "id": "beONwU4gkOQH"
      },
      "execution_count": null,
      "outputs": []
    },
    {
      "cell_type": "code",
      "source": [
        "convert_case(\"SWAPNIL\")"
      ],
      "metadata": {
        "colab": {
          "base_uri": "https://localhost:8080/",
          "height": 36
        },
        "id": "tPKcTC-sknP9",
        "outputId": "c0a60014-8793-439c-9459-528390c2cb98"
      },
      "execution_count": null,
      "outputs": [
        {
          "output_type": "execute_result",
          "data": {
            "text/plain": [
              "'SWAPNIL'"
            ],
            "application/vnd.google.colaboratory.intrinsic+json": {
              "type": "string"
            }
          },
          "metadata": {},
          "execution_count": 23
        }
      ]
    },
    {
      "cell_type": "markdown",
      "source": [
        "Q9. write a code to count the number of words in a string."
      ],
      "metadata": {
        "id": "E7wAHj1ONtxy"
      }
    },
    {
      "cell_type": "code",
      "source": [
        "def count_words(string):\n",
        "  words = string.split()\n",
        "  return len(words)"
      ],
      "metadata": {
        "id": "jm4MoMjrk27T"
      },
      "execution_count": null,
      "outputs": []
    },
    {
      "cell_type": "code",
      "source": [
        "count_words(\"this is a string\")"
      ],
      "metadata": {
        "colab": {
          "base_uri": "https://localhost:8080/"
        },
        "id": "c_K5Xsl0lCGu",
        "outputId": "2347b112-cb10-46cd-8ca9-5ae68ed45db2"
      },
      "execution_count": null,
      "outputs": [
        {
          "output_type": "execute_result",
          "data": {
            "text/plain": [
              "4"
            ]
          },
          "metadata": {},
          "execution_count": 25
        }
      ]
    },
    {
      "cell_type": "markdown",
      "source": [
        "Q10.write a code to concatenate two strings without using the + operator."
      ],
      "metadata": {
        "id": "w4R4tLGJORki"
      }
    },
    {
      "cell_type": "code",
      "source": [
        "\n",
        "def concatenate_strings(string1, string2):\n",
        "  result = \"\"\n",
        "  for char in string1:\n",
        "    result += char\n",
        "  for char in string2:\n",
        "    result += char\n",
        "  return result"
      ],
      "metadata": {
        "id": "ELKyyl04lUp8"
      },
      "execution_count": null,
      "outputs": []
    },
    {
      "cell_type": "code",
      "source": [
        "concatenate_strings(\"swapnil\", \"patil\")"
      ],
      "metadata": {
        "colab": {
          "base_uri": "https://localhost:8080/",
          "height": 36
        },
        "id": "_da_5ohlmPf_",
        "outputId": "ec8c72a8-7d9c-4d97-d7a9-af734a77a994"
      },
      "execution_count": null,
      "outputs": [
        {
          "output_type": "execute_result",
          "data": {
            "text/plain": [
              "'swapnilpatil'"
            ],
            "application/vnd.google.colaboratory.intrinsic+json": {
              "type": "string"
            }
          },
          "metadata": {},
          "execution_count": 30
        }
      ]
    },
    {
      "cell_type": "markdown",
      "source": [
        "Q11.write a code to remove all occurrences of a specific element from a list."
      ],
      "metadata": {
        "id": "5EHFh6P9Ocb3"
      }
    },
    {
      "cell_type": "code",
      "source": [
        "\n",
        "def remove_element(lst, element):\n",
        "  while element in lst:\n",
        "    lst.remove(element)\n",
        "  return lst\n",
        "\n",
        "\n",
        "  lst = [1, 2, 3, 2, 4, 2, 5]\n",
        "  element = 2\n",
        "  lst = remove_element(lst, element)\n",
        "  print(f\"List after removing {element}: {lst}\")"
      ],
      "metadata": {
        "id": "BkNB93KCmfaI"
      },
      "execution_count": null,
      "outputs": []
    },
    {
      "cell_type": "code",
      "source": [
        "remove_element([1, 2, 3, 2, 4, 2, 5], 2)"
      ],
      "metadata": {
        "colab": {
          "base_uri": "https://localhost:8080/"
        },
        "id": "snT9fQRDnKP-",
        "outputId": "715459e4-bda0-46d2-85d3-cfd6e9d8a067"
      },
      "execution_count": null,
      "outputs": [
        {
          "output_type": "execute_result",
          "data": {
            "text/plain": [
              "[1, 3, 4, 5]"
            ]
          },
          "metadata": {},
          "execution_count": 33
        }
      ]
    },
    {
      "cell_type": "markdown",
      "source": [
        "Q12.implement  a code to find the second largest number in a given list of integers."
      ],
      "metadata": {
        "id": "QPmf122FOxd4"
      }
    },
    {
      "cell_type": "code",
      "source": [
        "def second_largest(nums):\n",
        "  if len(nums) < 2:\n",
        "    return \"List needs at least two numbers.\"\n",
        "\n",
        "    find_second_largest = max(nums[0], nums[1])\n",
        "    second_largest = min(nums[0], nums[1])\n",
        "    for i in range(2, len(nums)):\n",
        "      if nums[i] > find_second_largest:\n",
        "        second_largest = find_second_largest\n",
        "        find_second_largest = nums[i]\n",
        "      elif nums[i] > second_largest and nums[i] != find_second_largest:\n",
        "       second_largest = nums[i]\n",
        "    return second_largest\n",
        "\n",
        "\n",
        "    nums = [10, 5, 8, 20, 15]\n",
        "  second_largest = second_largest(nums)\n",
        "  print(f\"The second largest number is: {second_largest}\")"
      ],
      "metadata": {
        "id": "UFk_TiClpDFP"
      },
      "execution_count": null,
      "outputs": []
    },
    {
      "cell_type": "markdown",
      "source": [
        "Q13.create a code to count the occurrences of each element in a list and return a dictionary with elements as keys and their counts as values."
      ],
      "metadata": {
        "id": "wUuvqQLkPDJS"
      }
    },
    {
      "cell_type": "code",
      "source": [
        "\n",
        "\n",
        "def count_occurrences(lst):\n",
        "  counts = {}\n",
        "  for element in lst:\n",
        "    if element in counts:\n",
        "      counts[element] += 1\n",
        "    else:\n",
        "      counts[element] = 1\n",
        "  return counts\n",
        "\n",
        "\n",
        "my_list = [1, 2, 2, 3, 3, 3, 4, 4, 4, 4]\n",
        "result = count_occurrences(my_list)\n",
        "print(result)\n"
      ],
      "metadata": {
        "colab": {
          "base_uri": "https://localhost:8080/"
        },
        "id": "T4rAfyDypwow",
        "outputId": "b242fcaf-c82e-4128-bcdd-b5aeb8e719e2"
      },
      "execution_count": null,
      "outputs": [
        {
          "output_type": "stream",
          "name": "stdout",
          "text": [
            "{1: 1, 2: 2, 3: 3, 4: 4}\n"
          ]
        }
      ]
    },
    {
      "cell_type": "markdown",
      "source": [
        "Q14.write a code to reverse a list in-place without using any built-in reverse functios."
      ],
      "metadata": {
        "id": "V-R5SlS0PgEV"
      }
    },
    {
      "cell_type": "code",
      "source": [
        "def reversed_list(lst):\n",
        "  start = 0\n",
        "  end = len(lst) - 1\n",
        "  while start < end:\n",
        "    lst[start], lst[end] = lst[end], lst[start]\n",
        "\n",
        "    start += 1\n",
        "    end -= 1\n",
        "  return lst\n",
        "  my_list = [1, 2, 3, 4, 5]\n",
        "  reversed_list = reversed_list(my_list)\n",
        "  print(reversed_list)"
      ],
      "metadata": {
        "id": "mVia_vi3ZU9y"
      },
      "execution_count": null,
      "outputs": []
    },
    {
      "cell_type": "code",
      "source": [
        "a = [ 1, 2, 3, 4, 5]\n",
        "reversed_list(a)"
      ],
      "metadata": {
        "colab": {
          "base_uri": "https://localhost:8080/"
        },
        "id": "kw9aJ8RTZvHn",
        "outputId": "6d527c90-8de9-4a98-c92d-901ac8993edf"
      },
      "execution_count": null,
      "outputs": [
        {
          "output_type": "execute_result",
          "data": {
            "text/plain": [
              "[5, 4, 3, 2, 1]"
            ]
          },
          "metadata": {},
          "execution_count": 3
        }
      ]
    },
    {
      "cell_type": "markdown",
      "source": [
        "Q15.implement  a code to find and remove duplicates from a list while preserving the original order of elements."
      ],
      "metadata": {
        "id": "olvluepyPwh3"
      }
    },
    {
      "cell_type": "code",
      "source": [
        "def remove_duplicates_preserve_order(lst):\n",
        "  unique_elements = []\n",
        "  seen = set()\n",
        "  for element in lst:\n",
        "    if element not in seen:\n",
        "      unique_elements.append(element)\n",
        "      seen.add(element)\n",
        "  return unique_elements\n",
        "  my_list = [1, 2, 2, 3, 4, 4, 5]\n",
        "  result = remove_duplicates_preserve_order(my_list)\n",
        "  print(result)"
      ],
      "metadata": {
        "id": "x9NhRaNCaoYx"
      },
      "execution_count": null,
      "outputs": []
    },
    {
      "cell_type": "code",
      "source": [
        "a =[ 1,2,3,4,5,6,7,8,9,1,2,3,4,5,6,7,8,9]\n",
        "remove_duplicates_preserve_order(a)"
      ],
      "metadata": {
        "colab": {
          "base_uri": "https://localhost:8080/"
        },
        "id": "agbRCN4Va1Sk",
        "outputId": "3cfb9e67-bf6d-4cf0-dc88-e9f3619eb75b"
      },
      "execution_count": null,
      "outputs": [
        {
          "output_type": "execute_result",
          "data": {
            "text/plain": [
              "[1, 2, 3, 4, 5, 6, 7, 8, 9]"
            ]
          },
          "metadata": {},
          "execution_count": 8
        }
      ]
    },
    {
      "cell_type": "markdown",
      "source": [
        "Q16.create a code to check if a given list is sorted (either in ascending or decending order) or not."
      ],
      "metadata": {
        "id": "2GfWqVAbP_Qb"
      }
    },
    {
      "cell_type": "code",
      "source": [
        "def is_sorted(lst):\n",
        "  ascending = all(lst[i] <= lst[i + 1] for i in range(len(lst) - 1))\n",
        "  descending = all(lst[i] >= lst[i + 1] for i in range(len(lst) - 1))\n",
        "  return ascending or descending\n",
        "\n",
        "\n",
        "my_list = [5, 4, 3, 2, 1]\n",
        "if is_sorted(my_list):\n",
        "  print(\"The list is sorted.\")\n",
        "else:\n",
        "  print(\"The list is not sorted.\")"
      ],
      "metadata": {
        "colab": {
          "base_uri": "https://localhost:8080/"
        },
        "id": "WQIfF4i0bnNL",
        "outputId": "c7f25a54-2c91-4228-8644-71acb749042f"
      },
      "execution_count": null,
      "outputs": [
        {
          "output_type": "stream",
          "name": "stdout",
          "text": [
            "The list is sorted.\n"
          ]
        }
      ]
    },
    {
      "cell_type": "markdown",
      "source": [
        "Q17.write a code to merge  two sorted lists into single sorted list."
      ],
      "metadata": {
        "id": "D_gHaQFaQMnS"
      }
    },
    {
      "cell_type": "code",
      "source": [
        "def merge_sorted_lists(list1, list2):\n",
        "  merged_list = []\n",
        "  i = j = 0\n",
        "  while i < len(list1) and j < len(list2):\n",
        "    if list1[i] <= list2[j]:\n",
        "      merged_list.append(list1[i])\n",
        "      i += 1\n",
        "    else:\n",
        "      merged_list.append(list2[j])\n",
        "      j += 1\n",
        "  merged_list.extend(list1[i:])\n",
        "  merged_list.extend(list2[j:])\n",
        "  return merged_list\n",
        "  list1 = [1, 3, 5, 7]\n",
        "  list2 = [2, 4, 6, 8]\n",
        "  merged_list = merge_sorted_lists(list1, list2)\n",
        "  print(merged_list)"
      ],
      "metadata": {
        "id": "lI7c-uDbfupI"
      },
      "execution_count": null,
      "outputs": []
    },
    {
      "cell_type": "code",
      "source": [
        "merge_sorted_lists([1, 3, 5, 7], [2, 4, 6, 8])"
      ],
      "metadata": {
        "colab": {
          "base_uri": "https://localhost:8080/"
        },
        "id": "3OrA2bZDgR6r",
        "outputId": "6dd2bc8a-41e6-4fbe-9624-1e3f07d8e6f0"
      },
      "execution_count": null,
      "outputs": [
        {
          "output_type": "execute_result",
          "data": {
            "text/plain": [
              "[1, 2, 3, 4, 5, 6, 7, 8]"
            ]
          },
          "metadata": {},
          "execution_count": 14
        }
      ]
    },
    {
      "cell_type": "markdown",
      "source": [
        "Q18.implement  a code to find the intersection of two given lists."
      ],
      "metadata": {
        "id": "6ox2RN3cQavI"
      }
    },
    {
      "cell_type": "code",
      "source": [
        "def find_inter(list1,list2):\n",
        "  return list(set(list1) & set(list2))\n"
      ],
      "metadata": {
        "id": "A_nJ7VSNh3nY"
      },
      "execution_count": null,
      "outputs": []
    },
    {
      "cell_type": "code",
      "source": [
        "a = [12,45,75,66,56,65,56,6]\n",
        "b = [12,5,88,55,47,88,55,4]\n",
        "find_inter(a,b)"
      ],
      "metadata": {
        "colab": {
          "base_uri": "https://localhost:8080/"
        },
        "id": "6JaMZd7ViTqD",
        "outputId": "97601ea5-e5a0-4b26-cd8b-4d07b7e091be"
      },
      "execution_count": null,
      "outputs": [
        {
          "output_type": "execute_result",
          "data": {
            "text/plain": [
              "[12]"
            ]
          },
          "metadata": {},
          "execution_count": 20
        }
      ]
    },
    {
      "cell_type": "markdown",
      "source": [
        "Q19.create a code to find the union of twolists without duplicates."
      ],
      "metadata": {
        "id": "z9MDcIJcQmJd"
      }
    },
    {
      "cell_type": "code",
      "source": [
        "def find_union(list1,list2):\n",
        "  return list(set(list1) | set(list2))"
      ],
      "metadata": {
        "id": "c1kLa48aiztY"
      },
      "execution_count": null,
      "outputs": []
    },
    {
      "cell_type": "code",
      "source": [
        "a = [12,45,75,66,56,65,56,6]\n",
        "b = [12,5,88,55,47,88,55,4]\n",
        "find_union(a,b)"
      ],
      "metadata": {
        "colab": {
          "base_uri": "https://localhost:8080/"
        },
        "id": "z58bgao-i6_D",
        "outputId": "be903b63-8d3e-453d-af85-ce663353003c"
      },
      "execution_count": null,
      "outputs": [
        {
          "output_type": "execute_result",
          "data": {
            "text/plain": [
              "[65, 66, 4, 5, 6, 75, 12, 45, 47, 55, 56, 88]"
            ]
          },
          "metadata": {},
          "execution_count": 22
        }
      ]
    },
    {
      "cell_type": "markdown",
      "source": [
        "Q20.write a code to shuffle a given list randomly without using any built-in shuffle functions."
      ],
      "metadata": {
        "id": "e4AjyH6QRCSz"
      }
    },
    {
      "cell_type": "code",
      "source": [
        "a = [12,45,75,66,56,65,56,6]\n",
        "import random\n",
        "def shuffle_list(lst):\n",
        "  for i in range(len(lst) - 1, 0, -1):\n",
        "    j =  random.randint(0, i)\n",
        "    lst[i], lst[j] = lst[j], lst[i]\n",
        "  return lst"
      ],
      "metadata": {
        "id": "33TtHznMjGEC"
      },
      "execution_count": null,
      "outputs": []
    },
    {
      "cell_type": "code",
      "source": [
        "a = [12,45,75,66,56,65,56,6]\n",
        "shuffle_list(a)"
      ],
      "metadata": {
        "colab": {
          "base_uri": "https://localhost:8080/"
        },
        "id": "kdJ0dexCjexY",
        "outputId": "6803bc86-699d-479f-b5de-dbd3fe77ebce"
      },
      "execution_count": null,
      "outputs": [
        {
          "output_type": "execute_result",
          "data": {
            "text/plain": [
              "[75, 65, 56, 56, 12, 66, 45, 6]"
            ]
          },
          "metadata": {},
          "execution_count": 31
        }
      ]
    },
    {
      "cell_type": "markdown",
      "source": [
        "Q21.write a code that takes two tuples as input and returns a new tuple containing elements that are common to both input tuples."
      ],
      "metadata": {
        "id": "RGgXh2ioRPZ-"
      }
    },
    {
      "cell_type": "code",
      "source": [
        "def comman_tuple(tuple1, tuple2):\n",
        "  return tuple(set(tuple1) & set(tuple2))"
      ],
      "metadata": {
        "id": "FNxaG-IklCxr"
      },
      "execution_count": null,
      "outputs": []
    },
    {
      "cell_type": "code",
      "source": [
        "a = (12,45,75,66,56,65,56,6)\n",
        "b = (12,5,88,55,47,88,55,4)\n",
        "comman_tuple(a,b)"
      ],
      "metadata": {
        "colab": {
          "base_uri": "https://localhost:8080/"
        },
        "id": "pT1VS98BlJYO",
        "outputId": "3e71be95-27be-493a-9ad1-1699845ae0e0"
      },
      "execution_count": null,
      "outputs": [
        {
          "output_type": "execute_result",
          "data": {
            "text/plain": [
              "(12,)"
            ]
          },
          "metadata": {},
          "execution_count": 33
        }
      ]
    },
    {
      "cell_type": "markdown",
      "source": [
        "Q22.create a code that prompts the user to enter two sets of integers separaed by commas.then, print the intersection of these two sets."
      ],
      "metadata": {
        "id": "wAUvW9BYRorf"
      }
    },
    {
      "cell_type": "code",
      "source": [
        "def find_inter(list1,list2):\n",
        " set1 = input(\"Enter the first set of integers separated by commas: \")\n",
        " set2 = input(\"Enter the second set of integers separated by commas: \")\n",
        " set1 = set(map(int, set1.split(\",\")))\n",
        " set2 = set(map(int, set2.split(\",\")))\n",
        " intersection = set1.intersection(set2)\n",
        " print(\"Intersection of the two sets:\", intersection)\n"
      ],
      "metadata": {
        "id": "y_U2E64Alzwp"
      },
      "execution_count": null,
      "outputs": []
    },
    {
      "cell_type": "code",
      "source": [
        "find_inter([],[])"
      ],
      "metadata": {
        "colab": {
          "base_uri": "https://localhost:8080/"
        },
        "id": "hIHuC1WBnNV2",
        "outputId": "e6e62c70-170c-4392-a046-8498bea50541"
      },
      "execution_count": null,
      "outputs": [
        {
          "output_type": "stream",
          "name": "stdout",
          "text": [
            "Enter the first set of integers separated by commas: 1,2,3,4,5,6\n",
            "Enter the second set of integers separated by commas: 4,5,6,7,8,9\n",
            "Intersection of the two sets: {4, 5, 6}\n"
          ]
        }
      ]
    },
    {
      "cell_type": "markdown",
      "source": [
        "Q23.write a code to concatenate two tuples.the function should take two tuples as input and return a new tuple containing elements from both input tuples."
      ],
      "metadata": {
        "id": "_gLKGtP0SA21"
      }
    },
    {
      "cell_type": "code",
      "source": [
        "def concatenate_tuples(tuple1, tuple2):\n",
        "  return tuple1 + tuple2"
      ],
      "metadata": {
        "id": "-teCRwn-oO82"
      },
      "execution_count": null,
      "outputs": []
    },
    {
      "cell_type": "code",
      "source": [
        "a = (12,45,75,66,56,65,56,6)\n",
        "b = (12,5,88,55,47,88,55,4)\n",
        "concatenate_tuples(a,b)"
      ],
      "metadata": {
        "colab": {
          "base_uri": "https://localhost:8080/"
        },
        "id": "WXo7MRy1oXEc",
        "outputId": "a16a1885-9b7c-4d88-cd3f-4fa651024d19"
      },
      "execution_count": null,
      "outputs": [
        {
          "output_type": "execute_result",
          "data": {
            "text/plain": [
              "(12, 45, 75, 66, 56, 65, 56, 6, 12, 5, 88, 55, 47, 88, 55, 4)"
            ]
          },
          "metadata": {},
          "execution_count": 44
        }
      ]
    },
    {
      "cell_type": "markdown",
      "source": [
        "Q24. develop a code that prompts the user to input two sets of strings. then, print the elements that are present in the first set but not in the second set."
      ],
      "metadata": {
        "id": "yN_tRcdJSUxQ"
      }
    },
    {
      "cell_type": "code",
      "source": [
        "def find_difference(set1, set2):\n",
        "  set1 = input(\"Enter the first set of strings separated by commas: \")\n",
        "  set2 = input(\"Enter the second set of strings separated by commas: \")\n",
        "  set1 = set(set1.split(\",\"))\n",
        "  set2 = set(set2.split(\",\"))\n",
        "  return set1 - set2\n",
        "  print(\"Elements in the first set but not in the second set:\", difference)\n",
        "\n",
        "\n"
      ],
      "metadata": {
        "id": "trnJm27IpHjj"
      },
      "execution_count": null,
      "outputs": []
    },
    {
      "cell_type": "markdown",
      "source": [
        "Q25.create a code that takes a tuple and two integrs as input. the function should return a new tuple containing element from the original tuple within the specified range of indices."
      ],
      "metadata": {
        "id": "Mi_jTGU2SqeQ"
      }
    },
    {
      "cell_type": "code",
      "source": [
        "def get_elements_in_range(tuple_input, start_index, end_index):\n",
        "\n",
        "  if start_index < 0 or end_index >= len(tuple_input):\n",
        "    return \"Invalid indices.\"\n",
        "  return tuple_input[start_index:end_index + 1]\n",
        "my_tuple = (1, 2, 3, 4, 5)\n",
        "start_index = 1\n",
        "end_index = 3\n",
        "result = get_elements_in_range(my_tuple, start_index, end_index)\n",
        "print(result)\n"
      ],
      "metadata": {
        "id": "qPa7lLo_tyvN",
        "colab": {
          "base_uri": "https://localhost:8080/"
        },
        "outputId": "bba078aa-169d-462a-ae71-c6adb710118b"
      },
      "execution_count": 2,
      "outputs": [
        {
          "output_type": "stream",
          "name": "stdout",
          "text": [
            "(2, 3, 4)\n"
          ]
        }
      ]
    },
    {
      "cell_type": "markdown",
      "source": [
        "Q26.write a code that prompts the user to input two sets of characters. then,print the union of these two sets."
      ],
      "metadata": {
        "id": "Bg5VGaEyTB_u"
      }
    },
    {
      "cell_type": "code",
      "source": [
        "def find_union():\n",
        "  set1 = input(\"Enter the first set of characters: \")\n",
        "  set2 = input(\"Enter the second set of characters: \")\n",
        "  set1 = set(set1)\n",
        "  set2 = set(set2)\n",
        "  union = set1.union(set2)\n",
        "  print(\"Union of the two sets:\", union)\n",
        "\n",
        "find_union()\n"
      ],
      "metadata": {
        "colab": {
          "base_uri": "https://localhost:8080/"
        },
        "id": "npcK71RtgujQ",
        "outputId": "2342b00f-11f9-4c9f-e5be-94c5f5620315"
      },
      "execution_count": 6,
      "outputs": [
        {
          "output_type": "stream",
          "name": "stdout",
          "text": [
            "Enter the first set of characters: \"apple,banana,pineapple,kiwi\"\n",
            "Enter the second set of characters: \"apple,banana,pineapple,jinger\"\n",
            "Union of the two sets: {'k', 'a', ',', 'p', 'l', 'g', 'n', 'e', 'i', 'w', 'r', '\"', 'j', 'b'}\n"
          ]
        }
      ]
    },
    {
      "cell_type": "markdown",
      "source": [
        "Q27.develop a code that takes a tuple of integers as input. the function should return the maximum and minimum values from the tuple using tuple unpacking."
      ],
      "metadata": {
        "id": "p_drxOdPTR-F"
      }
    },
    {
      "cell_type": "code",
      "source": [
        "def find_max_min(tuple_input):\n",
        "  if not tuple_input:\n",
        "    return \"Empty tuple.\"\n",
        "  maximum = max(tuple_input)\n",
        "  minimum = min(tuple_input)\n",
        "  return maximum, minimum\n",
        "\n",
        "  #for example\n",
        "  my_tuple = (1, 2, 3, 4, 5)\n",
        "  maximum, minimum = find_max_min(my_tuple)\n",
        "  print(\"Maximum value:\", maximum)\n",
        "  print(\"Minimum value:\", minimum)"
      ],
      "metadata": {
        "id": "PTv-xnWph-B0"
      },
      "execution_count": 9,
      "outputs": []
    },
    {
      "cell_type": "code",
      "source": [
        "find_max_min((1, 2, 3, 4, 5))"
      ],
      "metadata": {
        "colab": {
          "base_uri": "https://localhost:8080/"
        },
        "id": "ljZAKrziil6I",
        "outputId": "457d2f2d-d423-4ade-a897-494e3dc12d5a"
      },
      "execution_count": 10,
      "outputs": [
        {
          "output_type": "execute_result",
          "data": {
            "text/plain": [
              "(5, 1)"
            ]
          },
          "metadata": {},
          "execution_count": 10
        }
      ]
    },
    {
      "cell_type": "markdown",
      "source": [
        "Q28.create a code that defines two sets of integers , then print the union, intersection, and difference of these two sets."
      ],
      "metadata": {
        "id": "_KiCyx78TuLr"
      }
    },
    {
      "cell_type": "code",
      "source": [
        "# prompt: create a code that defines two sets of integers, then print the union, intersection, and difference of these two sets.\n",
        "\n",
        "set1 = {1, 2, 3, 4, 5}\n",
        "set2 = {4, 5, 6, 7, 8}\n",
        "union = set1 | set2\n",
        "print(\"Union:\", union)\n",
        "intersection = set1 & set2\n",
        "print(\"Intersection:\", intersection)\n",
        "difference = set1 - set2\n",
        "print(\"Difference (set1 - set2):\", difference)\n"
      ],
      "metadata": {
        "colab": {
          "base_uri": "https://localhost:8080/"
        },
        "id": "iDIkDD1Xjtc5",
        "outputId": "e396a83f-36a8-4d44-bf5d-7b3b28ce05b0"
      },
      "execution_count": 15,
      "outputs": [
        {
          "output_type": "stream",
          "name": "stdout",
          "text": [
            "Union: {1, 2, 3, 4, 5, 6, 7, 8}\n",
            "Intersection: {4, 5}\n",
            "Difference (set1 - set2): {1, 2, 3}\n"
          ]
        }
      ]
    },
    {
      "cell_type": "markdown",
      "source": [
        "Q29.write a code that takes a tupel and an element as input. the function should return the count of occurrences of the given element in the tuple."
      ],
      "metadata": {
        "id": "In37oqSvUGre"
      }
    },
    {
      "cell_type": "code",
      "source": [
        "def count_occurrences(tuple_input, element):\n",
        "  count = tuple_input.count(element)\n",
        "  return count"
      ],
      "metadata": {
        "id": "6u9qU_H0k5_r"
      },
      "execution_count": 16,
      "outputs": []
    },
    {
      "cell_type": "code",
      "source": [
        "tuple1 = (1, 2, 3, 4, 5, 2, 3,2)\n",
        "count_occurrences(tuple1, 2)"
      ],
      "metadata": {
        "colab": {
          "base_uri": "https://localhost:8080/"
        },
        "id": "kuue7NNklFPC",
        "outputId": "3925227c-a4f1-42e6-e388-3e0db1612e7c"
      },
      "execution_count": 17,
      "outputs": [
        {
          "output_type": "execute_result",
          "data": {
            "text/plain": [
              "3"
            ]
          },
          "metadata": {},
          "execution_count": 17
        }
      ]
    },
    {
      "cell_type": "markdown",
      "source": [
        "Q30.develop a code that prompt the user to input two sets of strings. then. print the symmetric difference  of these two sets."
      ],
      "metadata": {
        "id": "rd_7oJRUUzqn"
      }
    },
    {
      "cell_type": "code",
      "source": [
        "def find_symmetric_difference(set1,set2):\n",
        "  set1 = input(\"Enter the first set of strings separated by commas: \")\n",
        "  set2 = input(\"Enter the second set of strings separated by commas: \")\n",
        "  set1 = set(set1.split(\",\"))\n",
        "  set2 = set(set2.split(\",\"))\n",
        "  return set1 ^ set2\n",
        "  print(\"Symmetric difference of the two sets:\", symmetric_difference)"
      ],
      "metadata": {
        "id": "OSyHg8XOlyaH"
      },
      "execution_count": 18,
      "outputs": []
    },
    {
      "cell_type": "code",
      "source": [
        "find_symmetric_difference({},{})\n"
      ],
      "metadata": {
        "colab": {
          "base_uri": "https://localhost:8080/"
        },
        "id": "g3izy4x7mJsL",
        "outputId": "69d8a7d8-9dec-4087-89e8-ca6101a0adb3"
      },
      "execution_count": 20,
      "outputs": [
        {
          "name": "stdout",
          "output_type": "stream",
          "text": [
            "Enter the first set of strings separated by commas: \"apple,pineapple,banana\"\n",
            "Enter the second set of strings separated by commas: \"apple ,chilli,tomato\"\n"
          ]
        },
        {
          "output_type": "execute_result",
          "data": {
            "text/plain": [
              "{'\"apple', '\"apple ', 'banana\"', 'chilli', 'pineapple', 'tomato\"'}"
            ]
          },
          "metadata": {},
          "execution_count": 20
        }
      ]
    },
    {
      "cell_type": "markdown",
      "source": [
        "Q31.write a code that takes  a list of words as input and returns a dictionary where the keys are unique words and the values are the frequemcies of those words in the input list.\n"
      ],
      "metadata": {
        "id": "BfjZZfgwVY9R"
      }
    },
    {
      "cell_type": "code",
      "source": [
        "def word_frequency(words):\n",
        "  frequency = {}\n",
        "  for word in words:\n",
        "    if word in frequency:\n",
        "      frequency[word] += 1\n",
        "    else:\n",
        "      frequency[word] = 1\n",
        "  return frequency"
      ],
      "metadata": {
        "id": "l1EXGt8QpHPB"
      },
      "execution_count": 24,
      "outputs": []
    },
    {
      "cell_type": "code",
      "source": [
        "word_frequency([\"swapnil\", \"patil\", \"swapnil\", \"patil\"])"
      ],
      "metadata": {
        "colab": {
          "base_uri": "https://localhost:8080/"
        },
        "id": "Ff1Di6sJpL5X",
        "outputId": "74047eaf-9a49-4e78-c3c9-c3506ecb00a9"
      },
      "execution_count": 25,
      "outputs": [
        {
          "output_type": "execute_result",
          "data": {
            "text/plain": [
              "{'swapnil': 2, 'patil': 2}"
            ]
          },
          "metadata": {},
          "execution_count": 25
        }
      ]
    },
    {
      "cell_type": "markdown",
      "source": [
        "Q32.write  a code that takes two dictionaries as input and meerges them into a single dictionary. if there are common keys, the values should be added toghther."
      ],
      "metadata": {
        "id": "XmjJnclnV8CH"
      }
    },
    {
      "cell_type": "code",
      "source": [
        "def merge_dictionaries(dict1, dict2):\n",
        "  merged_dict = dict1.copy()\n",
        "  for key, value in dict2.items():\n",
        "    if key in merged_dict:\n",
        "      merged_dict[key] += value\n",
        "    else:\n",
        "      merged_dict\n",
        "      return merged_dict"
      ],
      "metadata": {
        "id": "pV9j3E0IpaL6"
      },
      "execution_count": 36,
      "outputs": []
    },
    {
      "cell_type": "code",
      "source": [
        "merge_dictionaries({\"a\": 1, \"b\": 2}, {\"b\": 3, \"c\": 4})"
      ],
      "metadata": {
        "colab": {
          "base_uri": "https://localhost:8080/"
        },
        "id": "lrxVmxaCpySt",
        "outputId": "2d5845f9-dfc3-4769-e2ab-21086545f5de"
      },
      "execution_count": 38,
      "outputs": [
        {
          "output_type": "execute_result",
          "data": {
            "text/plain": [
              "{'a': 1, 'b': 5}"
            ]
          },
          "metadata": {},
          "execution_count": 38
        }
      ]
    },
    {
      "cell_type": "markdown",
      "source": [
        "Q33.write  a code to access a value in a nested dictionary. the function should take the dictionary and  a list of keys as input, and return the corresponding value. if any of the keys do not exist in the dictionary, the function should return none."
      ],
      "metadata": {
        "id": "uqbSkNXiWoIc"
      }
    },
    {
      "cell_type": "code",
      "source": [
        "def access_nested_value(dictionary, keys):\n",
        "  try:\n",
        "    for key in keys:\n",
        "      dictionary = dictionary[key]\n",
        "    return dictionary\n",
        "  except KeyError:\n",
        "    return None\n",
        "nested_dict = {\"a\": {\"b\": {\"c\": 10  }}}\n",
        "keys = [\"a\", \"b\", \"c\"]\n",
        "value = access_nested_value(nested_dict, keys)\n",
        "print(value)\n",
        "\n",
        "keys = [\"a\", \"b\", \"d\"]\n",
        "value = access_nested_value(nested_dict, keys)\n",
        "print(value)\n"
      ],
      "metadata": {
        "colab": {
          "base_uri": "https://localhost:8080/"
        },
        "id": "HKf5_F8nrZCG",
        "outputId": "986ecdfc-9174-410e-c207-5d7f203126ce"
      },
      "execution_count": 40,
      "outputs": [
        {
          "output_type": "stream",
          "name": "stdout",
          "text": [
            "10\n",
            "None\n"
          ]
        }
      ]
    },
    {
      "cell_type": "markdown",
      "source": [
        "Q34.write a code that takes a dictionary as  input and retruns a sorted version of it base on the values.you can choose whether return non."
      ],
      "metadata": {
        "id": "wACNeVTlXc0n"
      }
    },
    {
      "cell_type": "code",
      "source": [
        "\n",
        "\n",
        "def sort_dictionary_by_value(dictionary):\n",
        "  sorted_items = sorted(dictionary.items(), key=lambda item: item[1])\n",
        "  return dict(sorted_items)\n"
      ],
      "metadata": {
        "id": "37Fu7Cfesni3"
      },
      "execution_count": 41,
      "outputs": []
    },
    {
      "cell_type": "code",
      "source": [
        "sort_dictionary_by_value({\"a\": 2, \"b\": 1, \"c\": 3})"
      ],
      "metadata": {
        "colab": {
          "base_uri": "https://localhost:8080/"
        },
        "id": "7wjvfcDytfGg",
        "outputId": "d11a890e-9791-439c-9e68-3a4ae1f85e55"
      },
      "execution_count": 44,
      "outputs": [
        {
          "output_type": "execute_result",
          "data": {
            "text/plain": [
              "{'b': 1, 'a': 2, 'c': 3}"
            ]
          },
          "metadata": {},
          "execution_count": 44
        }
      ]
    },
    {
      "cell_type": "markdown",
      "source": [
        "Q35. write a code that inverts a dictionary, swapping keys and values by storing the keys as list in the inverted dictionary."
      ],
      "metadata": {
        "id": "feG6ScHFX8xE"
      }
    },
    {
      "cell_type": "code",
      "source": [
        "def invert_dic_by_swaping(dictionary):\n",
        "  inverted_dict = {}\n",
        "  for key, value in dictionary.items():\n",
        "    if value in inverted_dict:\n",
        "      inverted_dict[value].append(key)\n",
        "    else:\n",
        "      inverted_dict[value] = [key]\n",
        "  return inverted_dict\n",
        "\n",
        "  my_dict = {\"a\": 1, \"b\": 2, \"c\": 1, \"d\": 3}\n",
        "  inverted_dict = invert_dic_by_swaping(my_dict)\n",
        "  print(inverted_dict)"
      ],
      "metadata": {
        "id": "58kMH57VtqLE"
      },
      "execution_count": 46,
      "outputs": []
    },
    {
      "cell_type": "code",
      "source": [
        "invert_dic_by_swaping({\"a\": 1, \"b\": 2, \"c\": 1, \"d\": 3})"
      ],
      "metadata": {
        "colab": {
          "base_uri": "https://localhost:8080/"
        },
        "id": "ArsqhX0suLsd",
        "outputId": "6a87b05a-6030-4df8-87a4-ac954eb4c13e"
      },
      "execution_count": 47,
      "outputs": [
        {
          "output_type": "execute_result",
          "data": {
            "text/plain": [
              "{1: ['a', 'c'], 2: ['b'], 3: ['d']}"
            ]
          },
          "metadata": {},
          "execution_count": 47
        }
      ]
    },
    {
      "cell_type": "markdown",
      "source": [],
      "metadata": {
        "id": "Mbik8RtwOlw2"
      }
    }
  ]
}