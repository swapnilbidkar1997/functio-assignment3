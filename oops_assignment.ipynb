{
  "nbformat": 4,
  "nbformat_minor": 0,
  "metadata": {
    "colab": {
      "provenance": []
    },
    "kernelspec": {
      "name": "python3",
      "display_name": "Python 3"
    },
    "language_info": {
      "name": "python"
    }
  },
  "cells": [
    {
      "cell_type": "markdown",
      "source": [
        "Q1.what are the five key concept of object oriented programming language ,(oops).\n",
        "\n",
        "1)class in python:\n",
        "\n",
        "a class is a collection of objects. a class contains the blueprints or the prototype from which the objects are being created. it is a logical entity that contains some attributes and methods.\n",
        "\n",
        "\n",
        "2)python objects:\n",
        "\n",
        "in object oriented  programming python, the object is an entity that has a state and behavior associated with it.\n",
        "\n",
        "for example : integers, strings, floating-point numbers, even arrays, and dictionaries, are all objects\n",
        "\n",
        "\n",
        "3)python inheritance:\n",
        "\n",
        "in python object oriented programming. inheritance is the capability of one class to derive or inherit the properties from another class. the class that derices properties is callsed hte dericed lass or child class and the class from which the properties are being derived is called the basse class or parent class.\n",
        "\n",
        "\n",
        "4)python encapsulation\n",
        "\n",
        "in python object oriented programming ,encapsulation is one of the fundamental concepts in object-oriented programming (oop). it describes the idea of wrapping data and the methods that work on data within one unit . this puts restrictions on accessing variable and methods directly and can prevent the accidental modification of data .\n",
        "\n",
        "\n",
        "5)data abstraction :\n",
        "\n",
        "it hides unnecessary code details from the user. also,when we do not  want to give out sensetive parts of our code implementation and this is where data abstraction came.\n",
        "\n",
        "\n",
        "\n",
        "\n",
        "\n",
        "\n",
        "\n",
        "\n",
        "\n",
        "\n",
        "\n",
        "\n"
      ],
      "metadata": {
        "id": "mxw_XNTE9Pwv"
      }
    },
    {
      "cell_type": "markdown",
      "source": [
        "Q2.write a python class for a car with attribute for make model and year include a method to display the car's information.\n"
      ],
      "metadata": {
        "id": "vEEW6KrS3HF8"
      }
    },
    {
      "cell_type": "code",
      "source": [
        "class car:\n",
        "    def __init__(self,make,model,year):\n",
        "        self.make=make\n",
        "        self.model=model\n",
        "        self.year=year\n",
        "\n",
        "    def display_car_info(self):\n",
        "        print(f\"{self.year} {self.make} {self.model}\")"
      ],
      "metadata": {
        "id": "FRkBodn1DZgA"
      },
      "execution_count": null,
      "outputs": []
    },
    {
      "cell_type": "code",
      "source": [
        "obj1 = car(1997,'ford','mustang')\n",
        "obj1.display_car_info()"
      ],
      "metadata": {
        "colab": {
          "base_uri": "https://localhost:8080/"
        },
        "id": "nP2dl3QIDsYz",
        "outputId": "f7866ed0-3112-49fa-a2cc-372bfbd917f0"
      },
      "execution_count": null,
      "outputs": [
        {
          "output_type": "stream",
          "name": "stdout",
          "text": [
            "mustang 1997 ford\n"
          ]
        }
      ]
    },
    {
      "cell_type": "markdown",
      "source": [
        "Q3.explain the difference between instance methods and class methods. provide an example of each.\n",
        "\n",
        "1) class method:\n",
        "\n",
        " class methods are associated with the class rather than instance , they are defined using the @classmethod decorator  and take the class itself as the first parameter, usually named cls.classmethod are useful for tasks that involve the class rather than the instance, such as creating clsas specific behaviors  or modifiying  class-level atrributes.\n",
        "\n",
        "\n",
        "VS\n",
        "\n",
        "2)  instance method is the most common type of methods in python classes. it is associated with instance of a class and operete on the instances data. when defining an instance methods , the method's first parameter is typically named self, which refers to the instance calling the method. this allows the method to access and manipulate instancne's attributes.\n",
        "\n"
      ],
      "metadata": {
        "id": "o8BR6xeI3V9U"
      }
    },
    {
      "cell_type": "code",
      "source": [
        "class MyClass:\n",
        "    class_variable = 0\n",
        "    def __init__(self, value):\n",
        "            self.value = value\n",
        "    @classmethod\n",
        "    def modify_class_variable(cls, new_value):\n",
        "        cls.class_variable = new_value\n",
        "\n"
      ],
      "metadata": {
        "id": "rmP5ljoJJrRn"
      },
      "execution_count": null,
      "outputs": []
    },
    {
      "cell_type": "code",
      "source": [
        "obj = MyClass(10)\n",
        "obj.modify_class_variable(20)\n",
        "print(obj.class_variable)"
      ],
      "metadata": {
        "colab": {
          "base_uri": "https://localhost:8080/"
        },
        "id": "dniDPuZ-KjQu",
        "outputId": "247454be-83a0-44f1-ab35-3082095020b9"
      },
      "execution_count": null,
      "outputs": [
        {
          "output_type": "stream",
          "name": "stdout",
          "text": [
            "20\n"
          ]
        }
      ]
    },
    {
      "cell_type": "markdown",
      "source": [
        "Q4. how does python implement method over loading ?give an example.# bakki aahe\n",
        "\n",
        "method overloading:\n",
        "\n",
        "two or more methods have the same name but different numbers of parameters or different types of parameters, or both these method are called overloade methods and this is called method overloading"
      ],
      "metadata": {
        "id": "oqiWCMFe3qbQ"
      }
    },
    {
      "cell_type": "code",
      "source": [
        "\n",
        "\n",
        "class Calculator:\n",
        "    def add(self, x, y):\n",
        "        return x + y\n",
        "\n",
        "    def add(self, x, y, z):\n",
        "        return x + y\n"
      ],
      "metadata": {
        "id": "YH8MTLasOxgl"
      },
      "execution_count": null,
      "outputs": []
    },
    {
      "cell_type": "markdown",
      "source": [
        "Q5.what are the three types of access modifiers in python? how are they denoted?\n",
        "\n",
        " a class in python has three types of access modifiers:\n",
        "\n",
        " 1) public access modifier:\n",
        "\n",
        "  public methods and fields can be accessed directly by any clas.\n",
        "  we don't need to denot it .\n",
        "\n",
        " 2) protected access modifiers:\n",
        " protected methods and fields can be accessed within the same class it is delcared and its subclass\n",
        " it is denoted by prefixing the name of the instance / method by single underscore .\n",
        "\n",
        " 3)private access modifier:\n",
        "\n",
        " private methods and fields can be only accessed within the same class it is declared.\n",
        "\n",
        "it is denoted by prefixing the name of the instance/method by double underscore.\n",
        "\n",
        "\n",
        "\n",
        "\n"
      ],
      "metadata": {
        "id": "unIUO_5Y4A4K"
      }
    },
    {
      "cell_type": "markdown",
      "source": [
        "Q6.describe the five types of inheritance in python. provide a simple example of multiple inheritance.\n",
        "\n",
        "1) single inheritance: a derived class inherits from a single base class.\n",
        "\n",
        "2) multiple inheritance: a derived class inherits from multiple base classes.\n",
        "\n",
        "3) multilevel inheritance: a derived class inherits from another derived class, which in turn inherits from a third class\n",
        "\n",
        "4) hierarchal inheritance: multiple derived classes inherit from a single base class.\n",
        "\n",
        "5)hybrid inheritance: a mix of two or more types of inheritance.\n"
      ],
      "metadata": {
        "id": "W54kgGaE4S8R"
      }
    },
    {
      "cell_type": "code",
      "source": [
        "#single inheritance\n",
        "class Animal:\n",
        "    def __init__(self, name):\n",
        "        self.name = name\n",
        "\n",
        "    def speak(self):\n",
        "        pass\n",
        "\n",
        "class Dog(Animal):\n",
        "    def speak(self):\n",
        "        return \"Woof!\""
      ],
      "metadata": {
        "id": "aWYmbI4accl7"
      },
      "execution_count": null,
      "outputs": []
    },
    {
      "cell_type": "code",
      "source": [
        "# multipel inheritance\n",
        "class A:\n",
        "    def method_a(self):\n",
        "        print(\"Method A\")\n",
        "\n",
        "class B:\n",
        "    def method_b(self):\n",
        "        print(\"Method B\")\n",
        "\n",
        "class C(A, B):\n",
        "    pass"
      ],
      "metadata": {
        "id": "DVkULpDacp-f"
      },
      "execution_count": null,
      "outputs": []
    },
    {
      "cell_type": "code",
      "source": [
        "# multilevel inheritance\n",
        "class A:\n",
        "    def method_a(self):\n",
        "        print(\"Method A\")\n",
        "\n",
        "class B(A):\n",
        "    def method_b(self):\n",
        "        print(\"Method B\")\n",
        "\n",
        "class C(B):\n",
        "    pass"
      ],
      "metadata": {
        "id": "VBxs0qihc5kw"
      },
      "execution_count": null,
      "outputs": []
    },
    {
      "cell_type": "code",
      "source": [
        "# hirerarchical inheritance\n",
        "class animal:\n",
        "  def __init__(self):\n",
        "      pass\n",
        "class dog(animal):\n",
        "    def __init__(self):\n",
        "        super().__init__()\n",
        "class cat(animal):\n",
        "    def __init__(self):\n",
        "        super().__init__()"
      ],
      "metadata": {
        "id": "J6G4mj7Ad2TP"
      },
      "execution_count": null,
      "outputs": []
    },
    {
      "cell_type": "code",
      "source": [
        "# hybrid inheritance\n",
        "class A:\n",
        "    def method_a(self):\n",
        "        print(\"Method A\")\n",
        "\n",
        "class B(A):\n",
        "    def method_b(self):\n",
        "        print(\"Method B\")\n",
        "        super().method_a()\n",
        "\n",
        "class C(A):\n",
        "    def method_c(self):\n",
        "        print(\"Method C\")\n",
        "\n",
        "class D(B, C):\n",
        "    pass"
      ],
      "metadata": {
        "id": "T_UMdOV-dhbK"
      },
      "execution_count": null,
      "outputs": []
    },
    {
      "cell_type": "markdown",
      "source": [
        "Q7.what is the method resolution order (mro) in python?how can you retrieve it programmatically?\n",
        "\n",
        "ans: in python m method resolution order defines  the order in which the vase classes are searched when exrcution a method. first , the method or attribute is searched within a class  and then it follows the order we specified while inheriting. this order is also called linearization of al class and set of rules are called mro\n"
      ],
      "metadata": {
        "id": "qd0PrHbE4kIx"
      }
    },
    {
      "cell_type": "code",
      "source": [
        "class a:# see in notes\n",
        "\n",
        "  def __init__(self):\n",
        "    print(\"a\")\n",
        "    class b(a):\n",
        "      def __init__(self):\n",
        "        print(\"b\")\n",
        "        class c(a):\n",
        "          def __init__(self):\n",
        "            print(\"c\")\n",
        "            class d(b,c):\n",
        "              def __init__(self):\n",
        "                print(\"d\")"
      ],
      "metadata": {
        "id": "exl2mnZuRwE-"
      },
      "execution_count": null,
      "outputs": []
    },
    {
      "cell_type": "code",
      "source": [
        "print(\"d\")"
      ],
      "metadata": {
        "colab": {
          "base_uri": "https://localhost:8080/"
        },
        "id": "ElXqpP5lSFRe",
        "outputId": "e1331e7e-a826-43ce-ed28-9b75dadbfec7"
      },
      "execution_count": null,
      "outputs": [
        {
          "output_type": "stream",
          "name": "stdout",
          "text": [
            "d\n"
          ]
        }
      ]
    },
    {
      "cell_type": "markdown",
      "source": [
        "Q8.create an abstract base class shape with an abstract method area (). then create two subclasses circle and rectangle that implement the area() method.\n"
      ],
      "metadata": {
        "id": "9Bmd_ZYg5Nx0"
      }
    },
    {
      "cell_type": "code",
      "source": [
        "from abc import ABC , abstractclassmethod\n",
        "class shape(ABC):\n",
        "    @abstractclassmethod\n",
        "    def area(self):\n",
        "      pass\n",
        "\n",
        "class circle(shape):\n",
        "  def __init__(self, radius):\n",
        "    self.radius = radius\n",
        "\n",
        "    def area(self):\n",
        "      return 3.14569 * self.radius*self.radius\n",
        "\n",
        "class rectangle(shape):\n",
        "  def __init__(self,length,breath) :\n",
        "    self.length = length\n",
        "    self.breath = breath\n",
        "\n",
        "    def area(self):\n",
        "      return length * breath\n",
        "\n"
      ],
      "metadata": {
        "id": "7rO3uzISUKeH"
      },
      "execution_count": null,
      "outputs": []
    },
    {
      "cell_type": "markdown",
      "source": [
        "Q9.demonstrate polymorphism by creating a function that can work with different shape objects to calculate and print their class."
      ],
      "metadata": {
        "id": "mD6sDQg_5yfQ"
      }
    },
    {
      "cell_type": "code",
      "source": [
        "from abc import ABC , abstractclassmethod\n",
        "class shape(ABC):\n",
        "  @abstractclassmethod\n",
        "  def area(self):\n",
        "    pass\n",
        "\n",
        "class circle(shape):\n",
        "  def __init__(self, radius):\n",
        "    self.radius = radius\n",
        "\n",
        "class rectangle(shape):\n",
        "  def __init__(self, length, breath):\n",
        "    self.length = length\n",
        "    self.breath = breath\n",
        "\n",
        "def calculate_and_print_area(shape):\n",
        "  print(f\"Area: {shape.area()}\")\n",
        "\n",
        "  c1 = \"circle(5)\"\n",
        "  r1 = \"rectangle(4,6)\"\n",
        "  calculate_and_print_area(c1)\n",
        "  calculate_and_print_area(r1)"
      ],
      "metadata": {
        "id": "p54N60afZt4e"
      },
      "execution_count": 1,
      "outputs": []
    },
    {
      "cell_type": "markdown",
      "source": [
        "Q10.implement encapsulation in a bankaccount class with private attributes for balance and account _number . include methods for deposit , withdrawal, and balance inquiry."
      ],
      "metadata": {
        "id": "bOSEoH3g69tJ"
      }
    },
    {
      "cell_type": "code",
      "source": [
        "class bankaccount:\n",
        "  def __init__(self,balance,account_number):\n",
        "    self.__balance = balance\n",
        "    self.__account_number = account_number\n",
        "\n",
        "def deposit(self,amount):\n",
        "  if amount > 0:\n",
        "    self.__balance += amount\n",
        "    print(\"deposit successful\")\n",
        "  else:\n",
        "    print(\"invalid deposit amount\")\n",
        "\n",
        "def   withdraw(self,amount):\n",
        "  if amount > 0 and amount <= self.__balance:\n",
        "    self.__balance -= amount\n",
        "    print(\"withdraw is successful\")\n",
        "  else:\n",
        "    print(\"invalid withdrawal amount or insufficient balance\")\n",
        "\n",
        "def get_balance(self):\n",
        "  return self.__balance\n"
      ],
      "metadata": {
        "id": "N2Opmjrydruk"
      },
      "execution_count": null,
      "outputs": []
    },
    {
      "cell_type": "markdown",
      "source": [
        "Q11.write a class that overrides the __str__ , __and__, __add__, magic methods. what will these methods allow you to do?"
      ],
      "metadata": {
        "id": "YrSEAlvi6NH3"
      }
    },
    {
      "cell_type": "code",
      "source": [
        "\n",
        "\n",
        "class MyClass:\n",
        "    def __init__(self, value):\n",
        "        self.value = value\n",
        "\n",
        "    def __str__(self):\n",
        "        return f\"MyClass object with value: {self.value}\"\n",
        "\n",
        "    def __and__(self, other):\n",
        "        return MyClass(self.value & other.value)\n",
        "\n",
        "    def __add__(self, other):\n",
        "        return MyClass(self.value + other.value)\n",
        "c1 = MyClass(10)"
      ],
      "metadata": {
        "id": "zdkJDfipgLbN"
      },
      "execution_count": null,
      "outputs": []
    },
    {
      "cell_type": "markdown",
      "source": [
        "Q12. create  a decorator that measures and prints the execution time of a function.\n"
      ],
      "metadata": {
        "id": "95ddVPwj6wiQ"
      }
    },
    {
      "cell_type": "code",
      "source": [
        "import time\n",
        "def timeit(func):\n",
        "  def wrapper(*args, **kwargs):\n",
        "    start_time = time.time()\n",
        "    result = func(*args, **kwargs)\n",
        "    end_time = time.time()\n",
        "    print(f\"function {func.__name__} took {end_time - start_time:.4f} seconds to execute.\")\n",
        "    return result\n",
        "  return wrapper\n",
        "\n",
        "@timeit\n",
        "def my_function():\n",
        "  time.sleep(1)\n",
        "\n",
        "my_function()\n",
        "\n"
      ],
      "metadata": {
        "id": "vtheK4-BYCFR"
      },
      "execution_count": null,
      "outputs": []
    },
    {
      "cell_type": "markdown",
      "source": [
        "Q13.explain the concepts of the diamond problems in multiple inheritance. how does python resolve it?"
      ],
      "metadata": {
        "id": "IIS7_ODN7jDO"
      }
    },
    {
      "cell_type": "code",
      "source": [
        "class A:\n",
        "  def method_a(self):\n",
        "    pass\n",
        "class b(A):\n",
        "  def method_b(self):\n",
        "    pass\n",
        "class c(A):\n",
        "  def method_c(self):\n",
        "    pass\n",
        "\n",
        "class d(b,c):\n",
        "   def method-d(self)\n"
      ],
      "metadata": {
        "id": "JM-64GrXZaCE"
      },
      "execution_count": null,
      "outputs": []
    },
    {
      "cell_type": "markdown",
      "source": [
        "Q14. write a class method that kepps track of the number of insttances created from a class.\n"
      ],
      "metadata": {
        "id": "8DWgjUSJ8Cvp"
      }
    },
    {
      "cell_type": "code",
      "source": [
        "class MyClass:\n",
        "    instance_count = 0\n",
        "\n",
        "    def __init__(self):\n",
        "        MyClass.instance_count += 1\n",
        "\n",
        "    @classmethod\n",
        "    def get_instance_count(cls):\n",
        "        return cls.instance_count\n",
        "\n",
        "\n",
        "obj1 = MyClass()\n",
        "obj2 = MyClass()\n",
        "obj3 = MyClass()\n",
        "\n",
        "print(MyClass.get_instance_count())\n"
      ],
      "metadata": {
        "colab": {
          "base_uri": "https://localhost:8080/"
        },
        "id": "2hZtkpWta10L",
        "outputId": "359a87d6-f9af-45e6-fdef-d1ba24a55e02"
      },
      "execution_count": null,
      "outputs": [
        {
          "output_type": "stream",
          "name": "stdout",
          "text": [
            "3\n"
          ]
        }
      ]
    },
    {
      "cell_type": "markdown",
      "source": [
        "Q15.implement a static method in a class that checks if a given year is a leap year."
      ],
      "metadata": {
        "id": "8ZeDSo5w8UJg"
      }
    },
    {
      "cell_type": "code",
      "source": [
        "\n",
        "\n",
        "class DateUtils:\n",
        "    @staticmethod\n",
        "    def is_leap_year(year):\n",
        "        if (year % 4 == 0 and year % 100 != 0) or year % 400 == 0:\n",
        "            return True\n",
        "        return False\n",
        "\n",
        "\n",
        "year = 2024\n",
        "if DateUtils.is_leap_year(year):\n",
        "    print(f\"{year} is a leap year.\")\n",
        "else:\n",
        "    print(f\"{year} is not a leap year.\")\n"
      ],
      "metadata": {
        "colab": {
          "base_uri": "https://localhost:8080/"
        },
        "id": "KDXofnyQb1dj",
        "outputId": "cd210184-63aa-4bba-f8ed-053ac4e6a417"
      },
      "execution_count": null,
      "outputs": [
        {
          "output_type": "stream",
          "name": "stdout",
          "text": [
            "2024 is a leap year.\n"
          ]
        }
      ]
    }
  ]
}